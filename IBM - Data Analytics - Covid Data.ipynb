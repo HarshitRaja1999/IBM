{
  "nbformat": 4,
  "nbformat_minor": 0,
  "metadata": {
    "colab": {
      "name": "Untitled0.ipynb",
      "provenance": [],
      "authorship_tag": "ABX9TyM9AHLiC3SzzQTUlM7b5/ju",
      "include_colab_link": true
    },
    "kernelspec": {
      "name": "python3",
      "display_name": "Python 3"
    },
    "language_info": {
      "name": "python"
    }
  },
  "cells": [
    {
      "cell_type": "markdown",
      "metadata": {
        "id": "view-in-github",
        "colab_type": "text"
      },
      "source": [
        "<a href=\"https://colab.research.google.com/github/HarshitRaja1999/IBM/blob/main/IBM%20-%20Data%20Analytics%20-%20Covid%20Data.ipynb\" target=\"_parent\"><img src=\"https://colab.research.google.com/assets/colab-badge.svg\" alt=\"Open In Colab\"/></a>"
      ]
    },
    {
      "cell_type": "code",
      "metadata": {
        "id": "XelkyUnIY_iV"
      },
      "source": [
        "import numpy as np\n",
        "import pandas as pd\n",
        "import matplotlib.pyplot as plt\n",
        "import seaborn as sns\n",
        "import plotly\n",
        "import plotly.express as px"
      ],
      "execution_count": null,
      "outputs": []
    },
    {
      "cell_type": "code",
      "metadata": {
        "id": "mS7qwojSZKtm"
      },
      "source": [
        "state_df = pd.read_csv('../input/covid19-in-india/StatewiseTestingDetails.csv')\n",
        "country_df = pd.read_csv('../input/covid19-in-india/covid_19_india.csv')"
      ],
      "execution_count": null,
      "outputs": []
    },
    {
      "cell_type": "code",
      "metadata": {
        "id": "XTBPmE6KZMw1"
      },
      "source": [
        "country_df.head(10)"
      ],
      "execution_count": null,
      "outputs": []
    },
    {
      "cell_type": "code",
      "metadata": {
        "id": "tQ-mSuSGZPUa"
      },
      "source": [
        "country_df.isnull().sum() # no null values are present"
      ],
      "execution_count": null,
      "outputs": []
    },
    {
      "cell_type": "code",
      "metadata": {
        "id": "kjDAzEiQZSoB"
      },
      "source": [
        "country_df = country_df.drop(['Sno','ConfirmedIndianNational', 'ConfirmedForeignNational'], axis=1)\n",
        "country_df.head()\n",
        "# deleting sno , ConfirmedIndianNational,ConfirmedForeignNational"
      ],
      "execution_count": null,
      "outputs": []
    },
    {
      "cell_type": "code",
      "metadata": {
        "id": "n7Ei0P4dZUfb"
      },
      "source": [
        "country_df['Active'] = country_df['Confirmed'] - country_df['Cured'] - country_df['Deaths']\n",
        "country_df.tail() \n",
        "# calculating active cases in our country"
      ],
      "execution_count": null,
      "outputs": []
    },
    {
      "cell_type": "code",
      "metadata": {
        "id": "SxEgsqzkZWTj"
      },
      "source": [
        "country_df['Date'] = pd.to_datetime(country_df['Date'])\n",
        "#convert to date and time format\n"
      ],
      "execution_count": null,
      "outputs": []
    },
    {
      "cell_type": "code",
      "metadata": {
        "id": "amPw83HGZZ1Z"
      },
      "source": [
        "country_df.head()"
      ],
      "execution_count": null,
      "outputs": []
    },
    {
      "cell_type": "code",
      "metadata": {
        "id": "wqi0o2DnZbQB"
      },
      "source": [
        "fig=plt.figure(figsize=(15,8))\n",
        "ax=sns.lineplot(data=country_df[country_df['State/UnionTerritory'].isin(['Kerala','Tamil Nadu','Delhi','Maharashtra','Uttar Pradesh','Karnataka'])],x='Date',y='Active',hue='State/UnionTerritory')\n",
        "ax.set_title(\"Active cases by States\", size=20)\n",
        "plt.show()\n",
        "# Active cases in top 6 states during the period of time"
      ],
      "execution_count": null,
      "outputs": []
    },
    {
      "cell_type": "code",
      "metadata": {
        "id": "Xgr23DlmZeBT"
      },
      "source": [
        "india_cases = country_df[country_df['Date'] == country_df['Date'].max()].copy().fillna(0)\n",
        "india_cases.index = india_cases[\"State/UnionTerritory\"]\n",
        "india_cases = india_cases.drop(['State/UnionTerritory','Date'], axis=1)"
      ],
      "execution_count": null,
      "outputs": []
    },
    {
      "cell_type": "code",
      "metadata": {
        "id": "ueI1ej4FZfR5"
      },
      "source": [
        "india_cases.head()"
      ],
      "execution_count": null,
      "outputs": []
    },
    {
      "cell_type": "code",
      "metadata": {
        "id": "EyoQ4Z41Zgqd"
      },
      "source": [
        "top_10_death_states = india_cases.sort_values('Deaths',ascending = False)[:10]\n",
        "fig=plt.figure(figsize=(15,8))\n",
        "plt.title(\"Top 10 States with highest number of death\", size=20)\n",
        "plt.xlabel(\"states\")\n",
        "plt.ylabel(\"Number of deaths in thousands\")\n",
        "ax=sns.barplot(data=top_10_death_states.iloc[:10],y=top_10_death_states.Deaths,x=top_10_death_states.index, linewidth=2, edgecolor='black').set(xlabel='States', ylabel='Number of deaths')\n",
        "plt.show()"
      ],
      "execution_count": null,
      "outputs": []
    },
    {
      "cell_type": "code",
      "metadata": {
        "id": "A80wnpWLZiHX"
      },
      "source": [
        "top_10_cured_cases = india_cases.sort_values('Cured',ascending = False)[:10]\n",
        "fig=plt.figure(figsize=(15,8))\n",
        "plt.title(\"Top 10 States with highest number of cured cases\", size=20)\n",
        "plt.xlabel(\"states\")\n",
        "plt.ylabel(\"Number of cured cases\")\n",
        "ax=sns.barplot(data=top_10_cured_cases.iloc[:10],y=top_10_cured_cases.Cured,x=top_10_cured_cases.index, linewidth=2, edgecolor='black').set(xlabel='States', ylabel='Number of confirmed cases')\n",
        "plt.show()"
      ],
      "execution_count": null,
      "outputs": []
    },
    {
      "cell_type": "code",
      "metadata": {
        "id": "azncQ9-OZjtq"
      },
      "source": [
        "vaccination = pd.read_csv(r\"../input/covid19-in-india/covid_vaccine_statewise.csv\")"
      ],
      "execution_count": null,
      "outputs": []
    },
    {
      "cell_type": "code",
      "metadata": {
        "id": "flA-9WQbZlGn"
      },
      "source": [
        "vaccination.head(20)"
      ],
      "execution_count": null,
      "outputs": []
    },
    {
      "cell_type": "code",
      "metadata": {
        "id": "XT3X6n6pZmnt"
      },
      "source": [
        "vaccination.shape"
      ],
      "execution_count": null,
      "outputs": []
    },
    {
      "cell_type": "code",
      "metadata": {
        "id": "bf4mbKvrZoRl"
      },
      "source": [
        "vaccination.isnull().sum()"
      ],
      "execution_count": null,
      "outputs": []
    },
    {
      "cell_type": "code",
      "metadata": {
        "id": "OL4RWE1QZpfV"
      },
      "source": [
        "vaccination = vaccination.drop(['Total Sputnik V Administered','AEFI', '18-45 years (Age)','45-60 years (Age)','60+ years (Age)'], axis=1)\n",
        "# removing columns having most null values"
      ],
      "execution_count": null,
      "outputs": []
    },
    {
      "cell_type": "code",
      "metadata": {
        "id": "TNniIcOsZq2p"
      },
      "source": [
        "vaccination.head()"
      ],
      "execution_count": null,
      "outputs": []
    },
    {
      "cell_type": "code",
      "metadata": {
        "id": "EfkZvbyGZr4P"
      },
      "source": [
        "male = vaccination[\"Male(Individuals Vaccinated)\"].sum() \n",
        "female = vaccination[\"Female(Individuals Vaccinated)\"].sum()  \n",
        "trans = vaccination[\"Transgender(Individuals Vaccinated)\"].sum()\n",
        "px.pie(names=[\"Male Vaccinated\",\"Female Vaccinated\",\"Trans Gender\"],values=[male,female,trans],title=\"Male and Female Vaccinated ratio for Covid19\")"
      ],
      "execution_count": null,
      "outputs": []
    },
    {
      "cell_type": "code",
      "metadata": {
        "id": "HQXNchTAZs9_"
      },
      "source": [
        "Covaxin = vaccination[\"Total Covaxin Administered\"].sum() \n",
        "Covishield = vaccination[\"Total CoviShield Administered\"].sum()  \n",
        "px.pie(names=[\"Covaxin Vaccinated\",\"Covishield Vaccinated\"],values=[Covaxin,Covishield],title=\"Covaxin and Covishield Vaccination\")"
      ],
      "execution_count": null,
      "outputs": []
    },
    {
      "cell_type": "code",
      "metadata": {
        "id": "kcus2YHrZvG8"
      },
      "source": [
        "v=vaccination[vaccination.State!='India']\n",
        "print(v.index)"
      ],
      "execution_count": null,
      "outputs": []
    },
    {
      "cell_type": "code",
      "metadata": {
        "id": "MhS-D4BIZwJu"
      },
      "source": [
        "v.head(5)"
      ],
      "execution_count": null,
      "outputs": []
    },
    {
      "cell_type": "code",
      "metadata": {
        "id": "G_ReKsP-ZxKX"
      },
      "source": [
        "v.rename(columns = {\"Total Individuals Vaccinated\": \"Total\"}, \n",
        "          inplace = True)"
      ],
      "execution_count": null,
      "outputs": []
    },
    {
      "cell_type": "code",
      "metadata": {
        "id": "yBcP0Ho8ZyY0"
      },
      "source": [
        "States_grouped=v.groupby('State')['Total'].sum().to_frame('Total')\n",
        "States_grouped=States_grouped.sort_values('Total',ascending=False).head(5)\n",
        "States_grouped"
      ],
      "execution_count": null,
      "outputs": []
    },
    {
      "cell_type": "code",
      "metadata": {
        "id": "jEGJ7mBFZz2N"
      },
      "source": [
        "fig=plt.figure(figsize=(8,6))\n",
        "plt.title(\"Top 5 Vaccinated states\", size=20)\n",
        "plt.xlabel(\"states\")\n",
        "plt.ylabel(\"Vaccination number\")\n",
        "x=sns.barplot(data=States_grouped.iloc[:10],y=States_grouped.Total,x=States_grouped.index, linewidth=2, edgecolor='black').set(xlabel='States', ylabel='Number of confirmed cases')\n",
        "plt.show()"
      ],
      "execution_count": null,
      "outputs": []
    },
    {
      "cell_type": "code",
      "metadata": {
        "id": "IPybTFetZ1Od"
      },
      "source": [
        "Doses = vaccination[\"Total Doses Administered\"].sum() \n",
        "Vaccinated = vaccination[\"Total Individuals Vaccinated\"].sum()  \n",
        "px.pie(names=[\"Doses Administered\",\"People Vaccinated\"],values=[Doses,Vaccinated],title=\"Doses administered vs People Vaccinated\")"
      ],
      "execution_count": null,
      "outputs": []
    },
    {
      "cell_type": "code",
      "metadata": {
        "id": "TUaRnRpIZ2kg"
      },
      "source": [
        "df_Karnataka=vaccination[vaccination['State']=='Karnataka']"
      ],
      "execution_count": null,
      "outputs": []
    },
    {
      "cell_type": "code",
      "metadata": {
        "id": "6gMo0GXGZ3pt"
      },
      "source": [
        "Doses = df_Karnataka[\"Total Doses Administered\"].sum() \n",
        "Vaccinated = df_Karnataka[\"Total Individuals Vaccinated\"].sum()  \n",
        "px.pie(names=[\"Doses Administered\",\"People Vaccinated\"],values=[Doses,Vaccinated],title=\"Doses administered vs People Vaccinated\")"
      ],
      "execution_count": null,
      "outputs": []
    }
  ]
}